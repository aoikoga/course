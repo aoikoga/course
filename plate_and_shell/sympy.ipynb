{
 "cells": [
  {
   "cell_type": "markdown",
   "metadata": {},
   "source": [
    "# Sympy を用いた代数計算"
   ]
  },
  {
   "cell_type": "code",
   "execution_count": null,
   "metadata": {},
   "outputs": [],
   "source": [
    "import sympy as sym\n",
    "sym.init_printing()"
   ]
  },
  {
   "cell_type": "markdown",
   "metadata": {},
   "source": [
    "## 例題1：多倍長精度\n",
    "円周率を50桁まで表示しなさい"
   ]
  },
  {
   "cell_type": "code",
   "execution_count": null,
   "metadata": {},
   "outputs": [],
   "source": [
    "print(sym.Float(sym.pi, 50))"
   ]
  },
  {
   "cell_type": "markdown",
   "metadata": {},
   "source": [
    "## 例題2：因数分解\n",
    "次の式を因数分解しなさい\n",
    "$$\n",
    "    x^3 - ax^2 - bx^2 - cx^2 + abx + bcx + acx - abc\n",
    "$$"
   ]
  },
  {
   "cell_type": "code",
   "execution_count": null,
   "metadata": {},
   "outputs": [],
   "source": [
    "(a, b, c, d, e, f) = sym.symbols('a b c d e f')\n",
    "(x, y, z) = sym.symbols('x y z')"
   ]
  },
  {
   "cell_type": "code",
   "execution_count": null,
   "metadata": {},
   "outputs": [],
   "source": [
    "f1 = x**3 - a * x**2 - b * x**2 - c * x**2 + a * b * x + b * c * x + a * c * x - a * b * c\n",
    "sym.factor(f1)"
   ]
  },
  {
   "cell_type": "markdown",
   "metadata": {},
   "source": [
    "## 例題3：式の展開\n",
    "次の式を展開しなさい\n",
    "$$\n",
    "    (ax + b)(cx^2 + dx + e)\n",
    "$$"
   ]
  },
  {
   "cell_type": "code",
   "execution_count": null,
   "metadata": {},
   "outputs": [],
   "source": [
    "f2 = (a * x + b) * (c * x**2 + d * x + e)\n",
    "sym.expand(f2)"
   ]
  },
  {
   "cell_type": "markdown",
   "metadata": {},
   "source": [
    "## 例題4：3次方程式の解\n",
    "次の式の解を求めなさい\n",
    "$$\n",
    "    2x^3 - 5x^2 - 4x + 3 = 0\n",
    "$$"
   ]
  },
  {
   "cell_type": "code",
   "execution_count": null,
   "metadata": {},
   "outputs": [],
   "source": [
    "f3 = 2 * x**3 - 5 * x**2 - 4 * x + 3\n",
    "sym.solve(f3, x)"
   ]
  },
  {
   "cell_type": "markdown",
   "metadata": {},
   "source": [
    "## 例題5：1次連立方程式の解\n",
    "次の連立方程式を解きなさい\n",
    "$$\n",
    "    x + 2y - z = 1 \\\\\n",
    "    2x + 3y = 2 \\\\\n",
    "    x + z = 3 \\\\\n",
    "$$"
   ]
  },
  {
   "cell_type": "code",
   "execution_count": null,
   "metadata": {},
   "outputs": [],
   "source": [
    "f4 = x + 2 * y - z - 1\n",
    "f5 = 2 * x + 3 * y - 2\n",
    "f6 = x + z - 3\n",
    "sym.solve([f4, f5, f6], [x, y, z])"
   ]
  },
  {
   "cell_type": "markdown",
   "metadata": {},
   "source": [
    "## 例題6：1階微分\n",
    "次の式の微分を求めなさい\n",
    "$$\n",
    "    sin(x)x\n",
    "$$"
   ]
  },
  {
   "cell_type": "code",
   "execution_count": null,
   "metadata": {},
   "outputs": [],
   "source": [
    "f7 = sym.sin(x) * x\n",
    "sym.diff(f7, x)"
   ]
  },
  {
   "cell_type": "markdown",
   "metadata": {},
   "source": [
    "## 例題7：2階微分\n",
    "次の式の2階微分を求めなさい\n",
    "$$\n",
    "    cos(x)^2\n",
    "$$"
   ]
  },
  {
   "cell_type": "code",
   "execution_count": null,
   "metadata": {},
   "outputs": [],
   "source": [
    "f8 = (sym.cos(x))**2\n",
    "sym.diff(f8, x, 2)"
   ]
  },
  {
   "cell_type": "markdown",
   "metadata": {},
   "source": [
    "## 例題8：不定積分\n",
    "次の不定積分を求めなさい\n",
    "$$\n",
    "    \\int x^3dx\n",
    "$$"
   ]
  },
  {
   "cell_type": "code",
   "execution_count": null,
   "metadata": {},
   "outputs": [],
   "source": [
    "f9 = x**3\n",
    "sym.integrate(f9, x)"
   ]
  },
  {
   "cell_type": "markdown",
   "metadata": {},
   "source": [
    "## 例題9：定積分\n",
    "次の定積分を求めなさい\n",
    "$$\n",
    "    \\int_{0}^{\\pi}sin(x)dx\n",
    "$$"
   ]
  },
  {
   "cell_type": "code",
   "execution_count": null,
   "metadata": {},
   "outputs": [],
   "source": [
    "f10 = sym.sin(x)\n",
    "sym.integrate(f10, (x, 0, sym.pi))"
   ]
  },
  {
   "cell_type": "markdown",
   "metadata": {},
   "source": [
    "## 例題10：行列の積\n",
    "次の行列の積を求めなさい\n",
    "$$\n",
    "  \\boldsymbol{A} = \n",
    "      \\left[\n",
    "          \\begin{array}{ccc}\n",
    "              1 & 2 & 3 \\\\\n",
    "              4 & 5 & 6\n",
    "          \\end{array}\n",
    "      \\right] \\\\\n",
    "  \\boldsymbol{B} = \n",
    "      \\left[\n",
    "          \\begin{array}{cc}\n",
    "              1 & 2 \\\\\n",
    "              3 & 4 \\\\\n",
    "              5 & 6\n",
    "          \\end{array}\n",
    "      \\right] \\\\\n",
    "  \\boldsymbol{A} \\times \\boldsymbol{B}\n",
    "$$"
   ]
  },
  {
   "cell_type": "code",
   "execution_count": null,
   "metadata": {},
   "outputs": [],
   "source": [
    "A = sym.Matrix([\n",
    "    [1, 2, 3],\n",
    "    [4, 5, 6]])\n",
    "B = sym.Matrix([\n",
    "    [1, 2],\n",
    "    [3, 4],\n",
    "    [5, 6]])\n",
    "A * B"
   ]
  }
 ],
 "metadata": {
  "kernelspec": {
   "display_name": "Python 3",
   "language": "python",
   "name": "python3"
  },
  "language_info": {
   "codemirror_mode": {
    "name": "ipython",
    "version": 3
   },
   "file_extension": ".py",
   "mimetype": "text/x-python",
   "name": "python",
   "nbconvert_exporter": "python",
   "pygments_lexer": "ipython3",
   "version": "3.6.8"
  }
 },
 "nbformat": 4,
 "nbformat_minor": 2
}
